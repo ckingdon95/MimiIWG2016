{
 "cells": [
  {
   "cell_type": "code",
   "execution_count": 1,
   "source": [
    "using MimiIWG, Mimi"
   ],
   "outputs": [],
   "metadata": {}
  },
  {
   "cell_type": "markdown",
   "source": [
    "# Get a model \n",
    "You must specifiy which model and which scenario:\n",
    "- choices of model are DICE, FUND, and PAGE\n",
    "- choices of scenario are USG1, USG2, USG3, USG4, and USG5"
   ],
   "metadata": {}
  },
  {
   "cell_type": "code",
   "execution_count": 2,
   "source": [
    "m = MimiIWG.get_model(DICE, USG2)\n",
    "run(m)\n",
    "explore(m)"
   ],
   "outputs": [
    {
     "output_type": "stream",
     "name": "stdout",
     "text": [
      "\n"
     ]
    },
    {
     "output_type": "execute_result",
     "data": {
      "text/plain": [
       "Electron.Window(Application(Base.PipeEndpoint(Base.Libc.WindowsRawSocket(0x00000000000004a4) open, 0 bytes waiting), Process(`\u001b[4m'C:\\Users\\david\\.julia\\artifacts\\aaa4041dbb1e073d9d1491a285929d6ce1b0e46a\\electron.exe'\u001b[24m \u001b[4m'C:\\Users\\david\\.julia\\packages\\Electron\\MGZPz\\src\\main.js'\u001b[24m \u001b[4m'\\\\.\\pipe\\jlel-83feebf06b1111eb2b355bb85fea753d'\u001b[24m \u001b[4m'\\\\.\\pipe\\jlel-sn-83feebf06b1111eb1f3465a2da31bb3d'\u001b[24m \u001b[4mIEY+pc5WsLusi9iRMUdaa+sshZBmuyx4TYNlZyMfR0FPTgSQc129CMzb0I9yabH6JFcyImtubLH3BFZ4mZu2ksApnW5dY+HGLo+gGlE490dlWT79pWtlWhel9kw/FDw8JjKI3ZduR4kI+/CeiDevIK4T5VAbQDSNQc1zrfsYqrg=\u001b[24m`, ProcessRunning), [1 window]), 1, true, Channel{Any}(sz_max:128,sz_curr:0))"
      ]
     },
     "metadata": {},
     "execution_count": 2
    }
   ],
   "metadata": {}
  },
  {
   "cell_type": "markdown",
   "source": [
    "# Get marginal damages vector from a pulse of emissions"
   ],
   "metadata": {}
  },
  {
   "cell_type": "code",
   "execution_count": 3,
   "source": [
    "md = MimiIWG.get_marginaldamages(FUND, USG3, gas=:CO2, year = 2020, discount = 0.025)"
   ],
   "outputs": [
    {
     "output_type": "execute_result",
     "data": {
      "text/plain": [
       "351×1 Array{Union{Missing, Float64},2}:\n",
       "   missing\n",
       "  0.0\n",
       "  0.0\n",
       "  0.0\n",
       " -0.0\n",
       " -0.0\n",
       "  0.0\n",
       "  0.0\n",
       "  0.0\n",
       "  0.0\n",
       "  0.0\n",
       "  0.0\n",
       " -0.0\n",
       "  ⋮\n",
       "  0.004004509851853113\n",
       "  0.00390792207047223\n",
       "  0.003813559273020933\n",
       "  0.003721374215230812\n",
       "  0.003631320369672287\n",
       "  0.003543351788413112\n",
       "  0.003457423497156801\n",
       "  0.003373490989387834\n",
       "  0.003291510801535916\n",
       "  0.003211440209734445\n",
       "  0.0031332371874217544\n",
       "  0.0030568607452925215"
      ]
     },
     "metadata": {},
     "execution_count": 3
    }
   ],
   "metadata": {}
  },
  {
   "cell_type": "markdown",
   "source": [
    "# Calculate a deterministic SCC value"
   ],
   "metadata": {}
  },
  {
   "cell_type": "code",
   "execution_count": 4,
   "source": [
    "scc = MimiIWG.compute_scc(PAGE, USG1, gas=:CO2, year = 2020, prtp = 0.03)"
   ],
   "outputs": [
    {
     "output_type": "execute_result",
     "data": {
      "text/plain": [
       "54.52785772313954"
      ]
     },
     "metadata": {},
     "execution_count": 4
    }
   ],
   "metadata": {}
  }
 ],
 "metadata": {
  "kernelspec": {
   "display_name": "Julia 1.5.3",
   "language": "julia",
   "name": "julia-1.5"
  },
  "language_info": {
   "file_extension": ".jl",
   "mimetype": "application/julia",
   "name": "julia",
   "version": "1.5.3"
  }
 },
 "nbformat": 4,
 "nbformat_minor": 4
}